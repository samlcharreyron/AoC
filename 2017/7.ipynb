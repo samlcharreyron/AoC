{
 "cells": [
  {
   "cell_type": "code",
   "execution_count": 33,
   "metadata": {
    "collapsed": false
   },
   "outputs": [],
   "source": [
    "from collections import defaultdict\n",
    "def tree(): return defaultdict(tree)"
   ]
  },
  {
   "cell_type": "code",
   "execution_count": 49,
   "metadata": {
    "collapsed": false
   },
   "outputs": [],
   "source": [
    "with open('7_1_test.txt') as f:\n",
    "    t = tree()\n",
    "    for cnt, line in enumerate(f):\n",
    "        line_l = line.split(' ')\n",
    "        word = line_l[0]\n",
    "        weight = line_l[1].rstrip('\\n').strip('(').rstrip(')')\n",
    "        t[word]\n",
    "        if line.find('->')>0:\n",
    "            for w in line_l[3:]:\n",
    "                child = w.rstrip(',\\n')\n",
    "                t[word][child]"
   ]
  },
  {
   "cell_type": "code",
   "execution_count": 46,
   "metadata": {
    "collapsed": false
   },
   "outputs": [
    {
     "data": {
      "text/plain": [
       "defaultdict(<function __main__.tree>,\n",
       "            {'cntj': defaultdict(<function __main__.tree>, {}),\n",
       "             'fwft': defaultdict(<function __main__.tree>,\n",
       "                         {'cntj': defaultdict(<function __main__.tree>, {}),\n",
       "                          'ktlj': defaultdict(<function __main__.tree>, {}),\n",
       "                          'xhth': defaultdict(<function __main__.tree>, {})}),\n",
       "             'gyxo': defaultdict(<function __main__.tree>, {}),\n",
       "             'jptl': defaultdict(<function __main__.tree>, {}),\n",
       "             'padx': defaultdict(<function __main__.tree>,\n",
       "                         {'havc': defaultdict(<function __main__.tree>, {}),\n",
       "                          'pbga': defaultdict(<function __main__.tree>, {}),\n",
       "                          'qoyq': defaultdict(<function __main__.tree>, {})}),\n",
       "             'qoyq': defaultdict(<function __main__.tree>, {}),\n",
       "             'tknk': defaultdict(<function __main__.tree>,\n",
       "                         {'fwft': defaultdict(<function __main__.tree>, {}),\n",
       "                          'padx': defaultdict(<function __main__.tree>, {}),\n",
       "                          'ugml': defaultdict(<function __main__.tree>, {})}),\n",
       "             'ugml': defaultdict(<function __main__.tree>,\n",
       "                         {'ebii': defaultdict(<function __main__.tree>, {}),\n",
       "                          'gyxo': defaultdict(<function __main__.tree>, {}),\n",
       "                          'jptl': defaultdict(<function __main__.tree>, {})})})"
      ]
     },
     "execution_count": 46,
     "metadata": {},
     "output_type": "execute_result"
    }
   ],
   "source": [
    "class Node(object):\n",
    "    def __init__(self, parent, weight):\n",
    "        self.parent = parent\n",
    "        self.weight = weight\n",
    "\n",
    "class Tree(object):\n",
    "    def __init__(self):\n",
    "        self.nodes = []\n",
    "    \n",
    "    def add(node):\n",
    "        self.nodes.append(node)\n",
    "        "
   ]
  },
  {
   "cell_type": "code",
   "execution_count": 52,
   "metadata": {
    "collapsed": false
   },
   "outputs": [],
   "source": [
    "def find_parent(tree, node):\n",
    "    for n in tree:\n",
    "        if n != node and tree[n][node]:\n",
    "            return n"
   ]
  },
  {
   "cell_type": "code",
   "execution_count": 53,
   "metadata": {
    "collapsed": false
   },
   "outputs": [],
   "source": [
    "find_parent(t,'cntj')"
   ]
  },
  {
   "cell_type": "code",
   "execution_count": 58,
   "metadata": {
    "collapsed": false
   },
   "outputs": [
    {
     "data": {
      "text/plain": [
       "defaultdict(<function __main__.tree>, {})"
      ]
     },
     "execution_count": 58,
     "metadata": {},
     "output_type": "execute_result"
    }
   ],
   "source": [
    "t['fwft']['cntj']"
   ]
  },
  {
   "cell_type": "code",
   "execution_count": null,
   "metadata": {
    "collapsed": true
   },
   "outputs": [],
   "source": []
  }
 ],
 "metadata": {
  "kernelspec": {
   "display_name": "Python 2",
   "language": "python",
   "name": "python2"
  },
  "language_info": {
   "codemirror_mode": {
    "name": "ipython",
    "version": 2
   },
   "file_extension": ".py",
   "mimetype": "text/x-python",
   "name": "python",
   "nbconvert_exporter": "python",
   "pygments_lexer": "ipython2",
   "version": "2.7.14"
  }
 },
 "nbformat": 4,
 "nbformat_minor": 2
}
