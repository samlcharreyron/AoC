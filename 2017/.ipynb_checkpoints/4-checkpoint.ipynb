{
 "cells": [
  {
   "cell_type": "markdown",
   "metadata": {},
   "source": [
    "--- Day 4: High-Entropy Passphrases ---\n",
    "A new system policy has been put in place that requires all accounts to use a passphrase instead of simply a password. A passphrase consists of a series of words (lowercase letters) separated by spaces.\n",
    "\n",
    "To ensure security, a valid passphrase must contain no duplicate words.\n",
    "\n",
    "For example:\n",
    "\n",
    "aa bb cc dd ee is valid.\n",
    "aa bb cc dd aa is not valid - the word aa appears more than once.\n",
    "aa bb cc dd aaa is valid - aa and aaa count as different words.\n",
    "The system's full passphrase list is available as your puzzle input. How many passphrases are valid?\n",
    "\n"
   ]
  },
  {
   "cell_type": "code",
   "execution_count": 1,
   "metadata": {
    "collapsed": true
   },
   "outputs": [],
   "source": [
    "passphrase = 'aa bb cc dd ee'"
   ]
  },
  {
   "cell_type": "code",
   "execution_count": 30,
   "metadata": {
    "collapsed": false
   },
   "outputs": [],
   "source": [
    "def is_valid(passphrase):\n",
    "    p_l = passphrase.rstrip('\\n').split(' ')\n",
    "    while len(p_l) > 0:\n",
    "        w = p_l.pop()\n",
    "        if w in p_l: return False\n",
    "    return True"
   ]
  },
  {
   "cell_type": "code",
   "execution_count": 31,
   "metadata": {
    "collapsed": false
   },
   "outputs": [
    {
     "data": {
      "text/plain": [
       "True"
      ]
     },
     "execution_count": 31,
     "metadata": {},
     "output_type": "execute_result"
    }
   ],
   "source": [
    "is_valid(passphrase)"
   ]
  },
  {
   "cell_type": "code",
   "execution_count": 34,
   "metadata": {
    "collapsed": false
   },
   "outputs": [],
   "source": [
    "n = 0\n",
    "with open('4_1_in.txt') as f:\n",
    "    passphrases = f.readlines()\n",
    "    for p in passphrases:\n",
    "        if is_valid(p): n += 1"
   ]
  },
  {
   "cell_type": "code",
   "execution_count": 35,
   "metadata": {
    "collapsed": false
   },
   "outputs": [
    {
     "data": {
      "text/plain": [
       "337"
      ]
     },
     "execution_count": 35,
     "metadata": {},
     "output_type": "execute_result"
    }
   ],
   "source": [
    "n"
   ]
  },
  {
   "cell_type": "markdown",
   "metadata": {},
   "source": [
    "--- Part Two ---\n",
    "For added security, yet another system policy has been put in place. Now, a valid passphrase must contain no two words that are anagrams of each other - that is, a passphrase is invalid if any word's letters can be rearranged to form any other word in the passphrase.\n",
    "\n",
    "For example:\n",
    "\n",
    "abcde fghij is a valid passphrase.\n",
    "abcde xyz ecdab is not valid - the letters from the third word can be rearranged to form the first word.\n",
    "a ab abc abd abf abj is a valid passphrase, because all letters need to be used when forming another word.\n",
    "iiii oiii ooii oooi oooo is valid.\n",
    "oiii ioii iioi iiio is not valid - any of these words can be rearranged to form any other word.\n",
    "Under this new system policy, how many passphrases are valid?"
   ]
  },
  {
   "cell_type": "code",
   "execution_count": 43,
   "metadata": {
    "collapsed": true
   },
   "outputs": [],
   "source": [
    "def is_anagram(a, b):\n",
    "    a_ = ''.join(sorted(a))\n",
    "    b_ = ''.join(sorted(b))\n",
    "    return a_ == b_"
   ]
  },
  {
   "cell_type": "code",
   "execution_count": 46,
   "metadata": {
    "collapsed": true
   },
   "outputs": [],
   "source": [
    "def is_valid_2(passphrase):\n",
    "    p_l = passphrase.rstrip('\\n').split(' ')\n",
    "    while len(p_l) > 0:\n",
    "        a = p_l.pop()\n",
    "        for b in p_l:\n",
    "            if is_anagram(a, b): return False\n",
    "    return True"
   ]
  },
  {
   "cell_type": "code",
   "execution_count": 47,
   "metadata": {
    "collapsed": false
   },
   "outputs": [],
   "source": [
    "n = 0\n",
    "with open('4_1_in.txt') as f:\n",
    "    passphrases = f.readlines()\n",
    "    for p in passphrases:\n",
    "        if is_valid_2(p): n += 1"
   ]
  },
  {
   "cell_type": "code",
   "execution_count": 49,
   "metadata": {
    "collapsed": false
   },
   "outputs": [
    {
     "data": {
      "text/plain": [
       "231"
      ]
     },
     "execution_count": 49,
     "metadata": {},
     "output_type": "execute_result"
    }
   ],
   "source": [
    "n"
   ]
  },
  {
   "cell_type": "code",
   "execution_count": null,
   "metadata": {
    "collapsed": true
   },
   "outputs": [],
   "source": []
  }
 ],
 "metadata": {
  "kernelspec": {
   "display_name": "Python 2",
   "language": "python",
   "name": "python2"
  },
  "language_info": {
   "codemirror_mode": {
    "name": "ipython",
    "version": 2
   },
   "file_extension": ".py",
   "mimetype": "text/x-python",
   "name": "python",
   "nbconvert_exporter": "python",
   "pygments_lexer": "ipython2",
   "version": "2.7.14"
  }
 },
 "nbformat": 4,
 "nbformat_minor": 2
}
