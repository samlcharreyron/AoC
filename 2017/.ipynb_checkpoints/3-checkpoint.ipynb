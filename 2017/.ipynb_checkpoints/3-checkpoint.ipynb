{
 "cells": [
  {
   "cell_type": "code",
   "execution_count": 1,
   "metadata": {
    "collapsed": true
   },
   "outputs": [],
   "source": [
    "import numpy as np\n",
    "import matplotlib.pyplot as plt\n",
    "%matplotlib inline"
   ]
  },
  {
   "cell_type": "code",
   "execution_count": null,
   "metadata": {
    "collapsed": false
   },
   "outputs": [],
   "source": [
    "N = 25\n",
    "points = [np.array([0,0])]\n",
    "cycles = 0\n",
    "i = 0\n",
    "while i < (N-1):\n",
    "    # up is an odd number\n",
    "    up = 2*cycles + 1\n",
    "    # length of side of a cycle is even number\n",
    "    side = 2*(cycles+1)\n",
    "    # go right\n",
    "    points.append(points[-1] + np.array([1,0]))\n",
    "    # go up \n",
    "    for j in xrange(up):\n",
    "        points.append(points[-1] + np.array([0,1]))\n",
    "    # go left\n",
    "    for j in xrange(side):\n",
    "        points.append(points[-1] + np.array([-1,0]))\n",
    "    # go down\n",
    "    for j in xrange(side):\n",
    "        points.append(points[-1] + np.array([0,-1]))\n",
    "    # go right\n",
    "    for j in xrange(side):\n",
    "        points.append(points[-1] + np.array([1,0]))\n",
    "    cycles = cycles + 1"
   ]
  },
  {
   "cell_type": "code",
   "execution_count": null,
   "metadata": {
    "collapsed": true
   },
   "outputs": [],
   "source": [
    "points"
   ]
  },
  {
   "cell_type": "code",
   "execution_count": null,
   "metadata": {
    "collapsed": false
   },
   "outputs": [],
   "source": [
    "dist = np.abs(points[:,0]) + np.abs(points[:,1])"
   ]
  },
  {
   "cell_type": "code",
   "execution_count": null,
   "metadata": {
    "collapsed": false
   },
   "outputs": [],
   "source": [
    "points[:23,:]"
   ]
  },
  {
   "cell_type": "code",
   "execution_count": null,
   "metadata": {
    "collapsed": false
   },
   "outputs": [],
   "source": [
    "dist[1023]"
   ]
  },
  {
   "cell_type": "code",
   "execution_count": null,
   "metadata": {
    "collapsed": true
   },
   "outputs": [],
   "source": []
  }
 ],
 "metadata": {
  "kernelspec": {
   "display_name": "Python 2",
   "language": "python",
   "name": "python2"
  },
  "language_info": {
   "codemirror_mode": {
    "name": "ipython",
    "version": 2
   },
   "file_extension": ".py",
   "mimetype": "text/x-python",
   "name": "python",
   "nbconvert_exporter": "python",
   "pygments_lexer": "ipython2",
   "version": "2.7.14"
  }
 },
 "nbformat": 4,
 "nbformat_minor": 2
}
